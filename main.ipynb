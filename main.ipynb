{
 "cells": [
  {
   "cell_type": "code",
   "execution_count": 1,
   "id": "4be335df-0523-41b0-9815-c9d7b2290376",
   "metadata": {
    "tags": []
   },
   "outputs": [
    {
     "ename": "ModuleNotFoundError",
     "evalue": "No module named 'torch'",
     "output_type": "error",
     "traceback": [
      "\u001b[1;31m---------------------------------------------------------------------------\u001b[0m",
      "\u001b[1;31mModuleNotFoundError\u001b[0m                       Traceback (most recent call last)",
      "Cell \u001b[1;32mIn[1], line 4\u001b[0m\n\u001b[0;32m      2\u001b[0m \u001b[38;5;28;01mimport\u001b[39;00m \u001b[38;5;21;01mmatplotlib\u001b[39;00m\n\u001b[0;32m      3\u001b[0m get_ipython()\u001b[38;5;241m.\u001b[39mrun_line_magic(\u001b[38;5;124m'\u001b[39m\u001b[38;5;124mmatplotlib\u001b[39m\u001b[38;5;124m'\u001b[39m, \u001b[38;5;124m'\u001b[39m\u001b[38;5;124minline\u001b[39m\u001b[38;5;124m'\u001b[39m)\n\u001b[1;32m----> 4\u001b[0m \u001b[38;5;28;01mimport\u001b[39;00m \u001b[38;5;21;01mtrain_utils\u001b[39;00m\n",
      "File \u001b[1;32mc:\\Users\\49498\\Desktop\\新建文件夹 (2)\\yinjc_industry_reaction_time_series\\train_utils.py:9\u001b[0m\n\u001b[0;32m      7\u001b[0m \u001b[38;5;28;01mfrom\u001b[39;00m \u001b[38;5;21;01mtqdm\u001b[39;00m\u001b[38;5;21;01m.\u001b[39;00m\u001b[38;5;21;01mnotebook\u001b[39;00m \u001b[38;5;28;01mimport\u001b[39;00m trange, tqdm\n\u001b[0;32m      8\u001b[0m \u001b[38;5;28;01mfrom\u001b[39;00m \u001b[38;5;21;01msklearn\u001b[39;00m\u001b[38;5;21;01m.\u001b[39;00m\u001b[38;5;21;01mpreprocessing\u001b[39;00m \u001b[38;5;28;01mimport\u001b[39;00m StandardScaler\n\u001b[1;32m----> 9\u001b[0m \u001b[38;5;28;01mimport\u001b[39;00m \u001b[38;5;21;01mtorch\u001b[39;00m\n\u001b[0;32m     10\u001b[0m \u001b[38;5;28;01mimport\u001b[39;00m \u001b[38;5;21;01mtorch\u001b[39;00m\u001b[38;5;21;01m.\u001b[39;00m\u001b[38;5;21;01mnn\u001b[39;00m \u001b[38;5;28;01mas\u001b[39;00m \u001b[38;5;21;01mnn\u001b[39;00m\n\u001b[0;32m     11\u001b[0m \u001b[38;5;28;01mfrom\u001b[39;00m \u001b[38;5;21;01mtorch\u001b[39;00m\u001b[38;5;21;01m.\u001b[39;00m\u001b[38;5;21;01mutils\u001b[39;00m\u001b[38;5;21;01m.\u001b[39;00m\u001b[38;5;21;01mdata\u001b[39;00m \u001b[38;5;28;01mimport\u001b[39;00m Dataset, DataLoader\n",
      "\u001b[1;31mModuleNotFoundError\u001b[0m: No module named 'torch'"
     ]
    }
   ],
   "source": [
    "import pandas as pd\n",
    "import matplotlib\n",
    "%matplotlib inline\n",
    "import train_utils"
   ]
  },
  {
   "cell_type": "code",
   "execution_count": 2,
   "id": "36f7c015-795a-46ec-b421-d454c7afe014",
   "metadata": {
    "tags": []
   },
   "outputs": [],
   "source": [
    "n_output = 4\n",
    "n_epochs = 256\n",
    "batch_size = 64\n",
    "lr_init = 0.01\n",
    "n_input = 7\n",
    "n_hidden = 4\n",
    "seed = 42"
   ]
  },
  {
   "cell_type": "code",
   "execution_count": 3,
   "id": "057211b0-37b6-4b8f-8621-b54fc3f5761b",
   "metadata": {},
   "outputs": [],
   "source": [
    "# 训练数据归一化\n",
    "train_utils.scale_train_dataset()"
   ]
  },
  {
   "cell_type": "code",
   "execution_count": 4,
   "id": "33d20eff-5463-4a3b-bd83-b4801b52e871",
   "metadata": {
    "tags": []
   },
   "outputs": [
    {
     "name": "stdout",
     "output_type": "stream",
     "text": [
      "n_input=7, n_output=4, n_hidden=4\n"
     ]
    },
    {
     "data": {
      "application/vnd.jupyter.widget-view+json": {
       "model_id": "1d440768099448dd935561a2371222c2",
       "version_major": 2,
       "version_minor": 0
      },
      "text/plain": [
       "  0%|          | 0/256 [00:00<?, ?it/s]"
      ]
     },
     "metadata": {},
     "output_type": "display_data"
    },
    {
     "name": "stdout",
     "output_type": "stream",
     "text": [
      "epoch 0\tmean loss: 0.10305120320874955\tcurrent learning rate: 0.01\n",
      "epoch 7\tmean loss: 0.01227051375335822\tcurrent learning rate: 0.009726562500000004\n",
      "epoch 15\tmean loss: 0.01136698016939253\tcurrent learning rate: 0.009414062500000006\n",
      "epoch 23\tmean loss: 0.01061882514877886\tcurrent learning rate: 0.00910156250000001\n",
      "epoch 31\tmean loss: 0.009682055348181336\tcurrent learning rate: 0.00878906250000001\n",
      "epoch 39\tmean loss: 0.009073704145832435\tcurrent learning rate: 0.008476562500000014\n",
      "epoch 47\tmean loss: 0.008616382469942882\tcurrent learning rate: 0.008164062500000015\n",
      "epoch 55\tmean loss: 0.008753859641713702\tcurrent learning rate: 0.007851562500000013\n",
      "epoch 63\tmean loss: 0.008143635316952346\tcurrent learning rate: 0.007539062500000014\n",
      "epoch 71\tmean loss: 0.007837698425964237\tcurrent learning rate: 0.0072265625000000125\n",
      "epoch 79\tmean loss: 0.008119476986882163\tcurrent learning rate: 0.006914062500000012\n",
      "epoch 87\tmean loss: 0.007914543320107277\tcurrent learning rate: 0.006601562500000012\n",
      "epoch 95\tmean loss: 0.00745299555671345\tcurrent learning rate: 0.006289062500000012\n",
      "epoch 103\tmean loss: 0.007272155621571755\tcurrent learning rate: 0.005976562500000011\n",
      "epoch 111\tmean loss: 0.0072573124078369414\tcurrent learning rate: 0.005664062500000011\n",
      "epoch 119\tmean loss: 0.007125028451519284\tcurrent learning rate: 0.005351562500000011\n",
      "epoch 127\tmean loss: 0.007075114426903109\tcurrent learning rate: 0.0050390625000000105\n",
      "epoch 135\tmean loss: 0.007007564219333784\tcurrent learning rate: 0.00472656250000001\n",
      "epoch 143\tmean loss: 0.006655010413249286\tcurrent learning rate: 0.00441406250000001\n",
      "epoch 151\tmean loss: 0.006838847253084481\tcurrent learning rate: 0.00410156250000001\n",
      "epoch 159\tmean loss: 0.0067604783119243565\tcurrent learning rate: 0.0037890625000000094\n",
      "epoch 167\tmean loss: 0.006533273862526855\tcurrent learning rate: 0.0034765625000000087\n",
      "epoch 175\tmean loss: 0.0067516414635360915\tcurrent learning rate: 0.0031640625000000084\n",
      "epoch 183\tmean loss: 0.006453124141096444\tcurrent learning rate: 0.0028515625000000077\n",
      "epoch 191\tmean loss: 0.006372736307403007\tcurrent learning rate: 0.002539062500000007\n",
      "epoch 199\tmean loss: 0.006234050230429421\tcurrent learning rate: 0.0022265625000000067\n",
      "epoch 207\tmean loss: 0.006242242414653253\tcurrent learning rate: 0.0019140625000000063\n",
      "epoch 215\tmean loss: 0.0062022725361152\tcurrent learning rate: 0.0016015625000000047\n",
      "epoch 223\tmean loss: 0.006051037894606271\tcurrent learning rate: 0.001289062500000004\n",
      "epoch 231\tmean loss: 0.006013722714824491\tcurrent learning rate: 0.0009765625000000037\n",
      "epoch 239\tmean loss: 0.00595665807286508\tcurrent learning rate: 0.0006640625000000025\n",
      "epoch 247\tmean loss: 0.00589943265640399\tcurrent learning rate: 0.0003515625000000014\n",
      "epoch 255\tmean loss: 0.005824744809745359\tcurrent learning rate: 3.9062500000000163e-05\n",
      "time used: 342.5661873817444s\n"
     ]
    }
   ],
   "source": [
    "# 训练模型\n",
    "model = train_utils.train_a_model(n_input, n_output, n_hidden, n_epochs, batch_size, lr_init, seed)"
   ]
  },
  {
   "cell_type": "code",
   "execution_count": 5,
   "id": "9c5a8a5e-b245-477a-849c-ba5e236ffa09",
   "metadata": {
    "tags": []
   },
   "outputs": [],
   "source": [
    "# 保存模型，可跳过\n",
    "train_utils.save_model(model, n_input, n_hidden, seed)"
   ]
  },
  {
   "cell_type": "code",
   "execution_count": 1,
   "id": "454d110d-482b-410d-b37f-bb6ed22f8e50",
   "metadata": {},
   "outputs": [
    {
     "data": {
      "text/plain": [
       "array([0. , 0.5, 1. ])"
      ]
     },
     "execution_count": 1,
     "metadata": {},
     "output_type": "execute_result"
    }
   ],
   "source": [
    "import numpy as np\n",
    "np.linspace(0, 1, num=3)"
   ]
  },
  {
   "cell_type": "markdown",
   "id": "ce362f91-fef3-4aa8-b3c1-e1c4e74952d9",
   "metadata": {},
   "source": [
    "---"
   ]
  },
  {
   "cell_type": "code",
   "execution_count": 3,
   "id": "3b16683c-beaf-4501-9f42-b4bf20eb2c8a",
   "metadata": {
    "tags": []
   },
   "outputs": [],
   "source": [
    "import predict_utils"
   ]
  },
  {
   "cell_type": "code",
   "execution_count": 4,
   "id": "4ba55194-1418-4cbe-84a7-0ff6f1c78e25",
   "metadata": {
    "tags": []
   },
   "outputs": [],
   "source": [
    "# 载入模型，可跳过\n",
    "model = predict_utils.load_model(n_input, n_output, n_hidden, seed)"
   ]
  },
  {
   "cell_type": "code",
   "execution_count": 5,
   "id": "da68cd42-e4ff-46e1-8225-f219e4731ab7",
   "metadata": {
    "tags": []
   },
   "outputs": [
    {
     "name": "stdout",
     "output_type": "stream",
     "text": [
      "模型参数总数：274\n"
     ]
    }
   ],
   "source": [
    "print(f'模型参数总数：{sum(p.numel() for p in model.parameters() if p.requires_grad)}')"
   ]
  },
  {
   "cell_type": "code",
   "execution_count": 6,
   "id": "cf6acf52-1767-4fe0-a71a-ccdf350dd575",
   "metadata": {},
   "outputs": [],
   "source": [
    "# 预测数据预处理\n",
    "predict_utils.scale_predict_dataset()"
   ]
  },
  {
   "cell_type": "code",
   "execution_count": 7,
   "id": "d9d160d1-1829-4a6d-9cd6-a7b7f56ae8c1",
   "metadata": {},
   "outputs": [
    {
     "data": {
      "application/vnd.jupyter.widget-view+json": {
       "model_id": "e36f901216c84f5d93d1cb81502240bb",
       "version_major": 2,
       "version_minor": 0
      },
      "text/plain": [
       "  0%|          | 0/4 [00:00<?, ?it/s]"
      ]
     },
     "metadata": {},
     "output_type": "display_data"
    },
    {
     "data": {
      "image/png": "[encoded data removed]",
      "text/plain": [
       "<Figure size 720x144 with 1 Axes>"
      ]
     },
     "metadata": {
      "needs_background": "light"
     },
     "output_type": "display_data"
    },
    {
     "data": {
      "image/png": "[encoded data removed]",
      "text/plain": [
       "<Figure size 720x144 with 1 Axes>"
      ]
     },
     "metadata": {
      "needs_background": "light"
     },
     "output_type": "display_data"
    },
    {
     "data": {
      "application/vnd.jupyter.widget-view+json": {
       "model_id": "29d46c554d6e4f71bd07851ec8696f67",
       "version_major": 2,
       "version_minor": 0
      },
      "text/plain": [
       "  0%|          | 0/5 [00:00<?, ?it/s]"
      ]
     },
     "metadata": {},
     "output_type": "display_data"
    },
    {
     "data": {
      "image/png": "[encoded data removed]",
      "text/plain": [
       "<Figure size 720x144 with 1 Axes>"
      ]
     },
     "metadata": {
      "needs_background": "light"
     },
     "output_type": "display_data"
    },
    {
     "data": {
      "image/png": "[encoded data removed]",
      "text/plain": [
       "<Figure size 720x144 with 1 Axes>"
      ]
     },
     "metadata": {
      "needs_background": "light"
     },
     "output_type": "display_data"
    },
    {
     "data": {
      "application/vnd.jupyter.widget-view+json": {
       "model_id": "be12b898f1ed409fb576d205b8b0e9bd",
       "version_major": 2,
       "version_minor": 0
      },
      "text/plain": [
       "  0%|          | 0/4 [00:00<?, ?it/s]"
      ]
     },
     "metadata": {},
     "output_type": "display_data"
    },
    {
     "data": {
      "image/png": "[encoded data removed]",
      "text/plain": [
       "<Figure size 720x144 with 1 Axes>"
      ]
     },
     "metadata": {
      "needs_background": "light"
     },
     "output_type": "display_data"
    },
    {
     "data": {
      "image/png": "[encoded data removed]",
      "text/plain": [
       "<Figure size 720x144 with 1 Axes>"
      ]
     },
     "metadata": {
      "needs_background": "light"
     },
     "output_type": "display_data"
    }
   ],
   "source": [
    "# 对三组数据分别预测\n",
    "submit = []\n",
    "for i in range(3):\n",
    "    submit.append(predict_utils.predict(pd.read_pickle(f'tmp/predict_B_{i}.pkl'), model, n_input, filename=f'{i}'))"
   ]
  },
  {
   "cell_type": "code",
   "execution_count": 11,
   "id": "6ec395e9-fb75-454d-95bb-a925290372b3",
   "metadata": {},
   "outputs": [
    {
     "data": {
      "text/html": [
       "<div>\n",
       "<style scoped>\n",
       "    .dataframe tbody tr th:only-of-type {\n",
       "        vertical-align: middle;\n",
       "    }\n",
       "\n",
       "    .dataframe tbody tr th {\n",
       "        vertical-align: top;\n",
       "    }\n",
       "\n",
       "    .dataframe thead th {\n",
       "        text-align: right;\n",
       "    }\n",
       "</style>\n",
       "<table border=\"1\" class=\"dataframe\">\n",
       "  <thead>\n",
       "    <tr style=\"text-align: right;\">\n",
       "      <th></th>\n",
       "      <th>time</th>\n",
       "      <th>dv1</th>\n",
       "      <th>dv2</th>\n",
       "      <th>mv1</th>\n",
       "      <th>cv1</th>\n",
       "      <th>cv2</th>\n",
       "    </tr>\n",
       "  </thead>\n",
       "  <tbody>\n",
       "    <tr>\n",
       "      <th>6</th>\n",
       "      <td>2023-01-01 23:59:30</td>\n",
       "      <td>0.90</td>\n",
       "      <td>352.00</td>\n",
       "      <td>305.00</td>\n",
       "      <td>333.990000</td>\n",
       "      <td>0.670000</td>\n",
       "    </tr>\n",
       "    <tr>\n",
       "      <th>7</th>\n",
       "      <td>2023-01-02 00:00:00</td>\n",
       "      <td>0.93</td>\n",
       "      <td>351.62</td>\n",
       "      <td>305.36</td>\n",
       "      <td>333.303215</td>\n",
       "      <td>0.675813</td>\n",
       "    </tr>\n",
       "    <tr>\n",
       "      <th>8</th>\n",
       "      <td>2023-01-02 00:00:30</td>\n",
       "      <td>0.93</td>\n",
       "      <td>352.09</td>\n",
       "      <td>305.33</td>\n",
       "      <td>333.596645</td>\n",
       "      <td>0.676121</td>\n",
       "    </tr>\n",
       "    <tr>\n",
       "      <th>9</th>\n",
       "      <td>2023-01-02 00:01:00</td>\n",
       "      <td>0.92</td>\n",
       "      <td>351.15</td>\n",
       "      <td>304.26</td>\n",
       "      <td>333.633654</td>\n",
       "      <td>0.677721</td>\n",
       "    </tr>\n",
       "    <tr>\n",
       "      <th>10</th>\n",
       "      <td>2023-01-02 00:01:30</td>\n",
       "      <td>0.89</td>\n",
       "      <td>352.26</td>\n",
       "      <td>304.79</td>\n",
       "      <td>333.369695</td>\n",
       "      <td>0.678512</td>\n",
       "    </tr>\n",
       "    <tr>\n",
       "      <th>...</th>\n",
       "      <td>...</td>\n",
       "      <td>...</td>\n",
       "      <td>...</td>\n",
       "      <td>...</td>\n",
       "      <td>...</td>\n",
       "      <td>...</td>\n",
       "    </tr>\n",
       "    <tr>\n",
       "      <th>2003</th>\n",
       "      <td>2023-01-02 16:38:00</td>\n",
       "      <td>1.01</td>\n",
       "      <td>344.87</td>\n",
       "      <td>293.46</td>\n",
       "      <td>317.241419</td>\n",
       "      <td>1.026974</td>\n",
       "    </tr>\n",
       "    <tr>\n",
       "      <th>2004</th>\n",
       "      <td>2023-01-02 16:38:30</td>\n",
       "      <td>1.02</td>\n",
       "      <td>345.07</td>\n",
       "      <td>292.85</td>\n",
       "      <td>317.086552</td>\n",
       "      <td>1.023936</td>\n",
       "    </tr>\n",
       "    <tr>\n",
       "      <th>2005</th>\n",
       "      <td>2023-01-02 16:39:00</td>\n",
       "      <td>1.04</td>\n",
       "      <td>345.31</td>\n",
       "      <td>293.79</td>\n",
       "      <td>317.071697</td>\n",
       "      <td>1.015182</td>\n",
       "    </tr>\n",
       "    <tr>\n",
       "      <th>2006</th>\n",
       "      <td>2023-01-02 16:39:30</td>\n",
       "      <td>1.04</td>\n",
       "      <td>344.47</td>\n",
       "      <td>293.49</td>\n",
       "      <td>317.202411</td>\n",
       "      <td>1.009549</td>\n",
       "    </tr>\n",
       "    <tr>\n",
       "      <th>2007</th>\n",
       "      <td>2023-01-02 16:40:00</td>\n",
       "      <td>1.06</td>\n",
       "      <td>344.78</td>\n",
       "      <td>299.05</td>\n",
       "      <td>316.952327</td>\n",
       "      <td>1.006798</td>\n",
       "    </tr>\n",
       "  </tbody>\n",
       "</table>\n",
       "<p>6006 rows × 6 columns</p>\n",
       "</div>"
      ],
      "text/plain": [
       "                    time   dv1     dv2     mv1         cv1       cv2\n",
       "6    2023-01-01 23:59:30  0.90  352.00  305.00  333.990000  0.670000\n",
       "7    2023-01-02 00:00:00  0.93  351.62  305.36  333.303215  0.675813\n",
       "8    2023-01-02 00:00:30  0.93  352.09  305.33  333.596645  0.676121\n",
       "9    2023-01-02 00:01:00  0.92  351.15  304.26  333.633654  0.677721\n",
       "10   2023-01-02 00:01:30  0.89  352.26  304.79  333.369695  0.678512\n",
       "...                  ...   ...     ...     ...         ...       ...\n",
       "2003 2023-01-02 16:38:00  1.01  344.87  293.46  317.241419  1.026974\n",
       "2004 2023-01-02 16:38:30  1.02  345.07  292.85  317.086552  1.023936\n",
       "2005 2023-01-02 16:39:00  1.04  345.31  293.79  317.071697  1.015182\n",
       "2006 2023-01-02 16:39:30  1.04  344.47  293.49  317.202411  1.009549\n",
       "2007 2023-01-02 16:40:00  1.06  344.78  299.05  316.952327  1.006798\n",
       "\n",
       "[6006 rows x 6 columns]"
      ]
     },
     "execution_count": 11,
     "metadata": {},
     "output_type": "execute_result"
    }
   ],
   "source": [
    "# 将三个预测结果拼起来\n",
    "submit = pd.concat([df.tail(2002) for df in submit])\n",
    "submit"
   ]
  },
  {
   "cell_type": "code",
   "execution_count": 12,
   "id": "1d080feb-58c7-43d4-9177-d495b26f30af",
   "metadata": {},
   "outputs": [],
   "source": [
    "# 保存结果\n",
    "submit[['cv1', 'cv2']].to_csv(f'submit/predict_{n_input}_{n_hidden}_{seed}.csv', index=False)"
   ]
  },
  {
   "cell_type": "code",
   "execution_count": null,
   "id": "e77a9dc6-9aec-4cd4-8adc-3b00a7c8ea23",
   "metadata": {},
   "outputs": [],
   "source": []
  }
 ],
 "metadata": {
  "kernelspec": {
   "display_name": "Python 3 (ipykernel)",
   "language": "python",
   "name": "python3"
  },
  "language_info": {
   "codemirror_mode": {
    "name": "ipython",
    "version": 3
   },
   "file_extension": ".py",
   "mimetype": "text/x-python",
   "name": "python",
   "nbconvert_exporter": "python",
   "pygments_lexer": "ipython3",
   "version": "3.10.10"
  }
 },
 "nbformat": 4,
 "nbformat_minor": 5
}
