{
 "cells": [
  {
   "cell_type": "code",
   "execution_count": 1,
   "metadata": {},
   "outputs": [
    {
     "name": "stderr",
     "output_type": "stream",
     "text": [
      "c:\\Users\\glx\\anaconda3\\envs\\mr\\lib\\site-packages\\tqdm\\auto.py:21: TqdmWarning: IProgress not found. Please update jupyter and ipywidgets. See https://ipywidgets.readthedocs.io/en/stable/user_install.html\n",
      "  from .autonotebook import tqdm as notebook_tqdm\n",
      "Importing plotly failed. Interactive plots will not work.\n"
     ]
    },
    {
     "name": "stdout",
     "output_type": "stream",
     "text": [
      "Index(['右侧换火信号', 'CEMS出口烟尘($mg/m^{3}$)', 'CEMS出口一氧化氮($mg/m^{3}$)',\n",
      "       'VA.SO2($mg/m^{3}$)', 'VA.NOX($mg/m^{3}$)', 'CEMS出口含氧(%)', 'VA.O2(%)',\n",
      "       'NOX转换值($mg/m^{3}$)', '氨水泵B频率反馈(Hz)', '1#线氨水流量(L/h)', 'C泵频率反馈(Hz)',\n",
      "       '反应塔入口温度', '1#线氨水调节阀(L/h)', '反应塔出口温度', 'CCF出口温度', '氨水分段设定反馈($m^{3}/h$)',\n",
      "       'CCF6温度', 'CCF5温度', 'CCF4温度', 'CCF3温度', 'CCF2温度', '出口CEMS温度', 'CCF1温度',\n",
      "       'CCF7温度', '喷氨压缩空气压力', 'CCF1差压', 'CCF2差压', 'CCF3差压', 'CCF4差压', 'CCF5差压',\n",
      "       '反应塔差压', 'CCF6差压', 'B变频器电流(A)', 'A变频器电流(A)', 'B输出频率(Hz)',\n",
      "       '氨逃逸小时均值($mg/m^{3}$)', 'A输出频率(Hz)', 'CCF7差压', '烟气量($Nm^{3}/h$)',\n",
      "       'CCF出口压力', 'CEMS出口流量(m/s)', '22出口CEMS温度', '22CEMS出口烟尘($mg/m^{3}$)',\n",
      "       '出口CEMS湿度(%)', '22烟气量($Nm^{3}/h$)', '右侧换火信号-数值'],\n",
      "      dtype='object')\n"
     ]
    }
   ],
   "source": [
    "import pandas as pd\n",
    "import numpy as np\n",
    "import matplotlib.pyplot as plt\n",
    "from prophet import Prophet\n",
    "import matplotlib\n",
    "\n",
    "# 设置全局字体\n",
    "matplotlib.rcParams[\"font.family\"] = \"SimSun\"\n",
    "\n",
    "raw_data = pd.read_csv(r\"data\\qiyeshuju-4S间隔.csv\", encoding=\"gbk\")\n",
    "raw_data.index = pd.to_datetime(raw_data[\"时间\"])\n",
    "raw_data.drop(\"时间\", axis=1, inplace=True)\n",
    "\n",
    "columns = raw_data.columns\n",
    "print(columns)\n"
   ]
  },
  {
   "cell_type": "markdown",
   "metadata": {},
   "source": [
    "## New version of Prophet"
   ]
  },
  {
   "cell_type": "code",
   "execution_count": 6,
   "metadata": {},
   "outputs": [
    {
     "name": "stdout",
     "output_type": "stream",
     "text": [
      "DatetimeIndex(['2023-12-11 18:48:28', '2023-12-11 18:48:32',\n",
      "               '2023-12-11 18:48:36', '2023-12-11 18:48:40',\n",
      "               '2023-12-11 18:48:44', '2023-12-11 18:48:48',\n",
      "               '2023-12-11 18:48:52', '2023-12-11 18:48:56',\n",
      "               '2023-12-11 18:49:00', '2023-12-11 18:49:04',\n",
      "               ...\n",
      "               '2024-01-12 17:09:32', '2024-01-12 17:09:36',\n",
      "               '2024-01-12 17:09:40', '2024-01-12 17:09:44',\n",
      "               '2024-01-12 17:09:48', '2024-01-12 17:09:52',\n",
      "               '2024-01-12 17:09:56', '2024-01-12 17:10:00',\n",
      "               '2024-01-12 17:10:04', '2024-01-12 17:10:08'],\n",
      "              dtype='datetime64[ns]', name='时间', length=690336, freq=None)\n"
     ]
    },
    {
     "data": {
      "text/html": [
       "<div>\n",
       "<style scoped>\n",
       "    .dataframe tbody tr th:only-of-type {\n",
       "        vertical-align: middle;\n",
       "    }\n",
       "\n",
       "    .dataframe tbody tr th {\n",
       "        vertical-align: top;\n",
       "    }\n",
       "\n",
       "    .dataframe thead th {\n",
       "        text-align: right;\n",
       "    }\n",
       "</style>\n",
       "<table border=\"1\" class=\"dataframe\">\n",
       "  <thead>\n",
       "    <tr style=\"text-align: right;\">\n",
       "      <th></th>\n",
       "      <th>y</th>\n",
       "    </tr>\n",
       "    <tr>\n",
       "      <th>时间</th>\n",
       "      <th></th>\n",
       "    </tr>\n",
       "  </thead>\n",
       "  <tbody>\n",
       "    <tr>\n",
       "      <th>2024-01-01 00:00:00</th>\n",
       "      <td>1530.907349</td>\n",
       "    </tr>\n",
       "    <tr>\n",
       "      <th>2024-01-01 00:00:04</th>\n",
       "      <td>1543.034058</td>\n",
       "    </tr>\n",
       "    <tr>\n",
       "      <th>2024-01-01 00:00:08</th>\n",
       "      <td>1569.152710</td>\n",
       "    </tr>\n",
       "    <tr>\n",
       "      <th>2024-01-01 00:00:12</th>\n",
       "      <td>1580.701172</td>\n",
       "    </tr>\n",
       "    <tr>\n",
       "      <th>2024-01-01 00:00:16</th>\n",
       "      <td>1590.964355</td>\n",
       "    </tr>\n",
       "    <tr>\n",
       "      <th>...</th>\n",
       "      <td>...</td>\n",
       "    </tr>\n",
       "    <tr>\n",
       "      <th>2024-01-01 23:59:40</th>\n",
       "      <td>1272.953735</td>\n",
       "    </tr>\n",
       "    <tr>\n",
       "      <th>2024-01-01 23:59:44</th>\n",
       "      <td>1275.792358</td>\n",
       "    </tr>\n",
       "    <tr>\n",
       "      <th>2024-01-01 23:59:48</th>\n",
       "      <td>1278.235229</td>\n",
       "    </tr>\n",
       "    <tr>\n",
       "      <th>2024-01-01 23:59:52</th>\n",
       "      <td>1280.670532</td>\n",
       "    </tr>\n",
       "    <tr>\n",
       "      <th>2024-01-01 23:59:56</th>\n",
       "      <td>1285.882324</td>\n",
       "    </tr>\n",
       "  </tbody>\n",
       "</table>\n",
       "<p>21661 rows × 1 columns</p>\n",
       "</div>"
      ],
      "text/plain": [
       "                               y\n",
       "时间                              \n",
       "2024-01-01 00:00:00  1530.907349\n",
       "2024-01-01 00:00:04  1543.034058\n",
       "2024-01-01 00:00:08  1569.152710\n",
       "2024-01-01 00:00:12  1580.701172\n",
       "2024-01-01 00:00:16  1590.964355\n",
       "...                          ...\n",
       "2024-01-01 23:59:40  1272.953735\n",
       "2024-01-01 23:59:44  1275.792358\n",
       "2024-01-01 23:59:48  1278.235229\n",
       "2024-01-01 23:59:52  1280.670532\n",
       "2024-01-01 23:59:56  1285.882324\n",
       "\n",
       "[21661 rows x 1 columns]"
      ]
     },
     "execution_count": 6,
     "metadata": {},
     "output_type": "execute_result"
    }
   ],
   "source": [
    "\n",
    "# 选择一天的数据\n",
    "print(raw_data.index)\n",
    "one_data = raw_data[\"2024-01-01 00:00:00\":\"2024-01-01 23:59:59\"]\n",
    "\n",
    "test_data = one_data[[r\"VA.NOX($mg/m^{3}$)\"]]\n",
    "test_data.columns = [\"y\"]\n",
    "test_data"
   ]
  },
  {
   "cell_type": "code",
   "execution_count": 8,
   "metadata": {},
   "outputs": [],
   "source": [
    "new_time_index = pd.date_range(\"2000-01-01 00:00:00\", freq=\"h\", periods=len(test_data))\n",
    "test_data.index = new_time_index\n",
    "test_data.loc[:, \"ds\"] = new_time_index"
   ]
  }
 ],
 "metadata": {
  "kernelspec": {
   "display_name": "ft",
   "language": "python",
   "name": "python3"
  },
  "language_info": {
   "codemirror_mode": {
    "name": "ipython",
    "version": 3
   },
   "file_extension": ".py",
   "mimetype": "text/x-python",
   "name": "python",
   "nbconvert_exporter": "python",
   "pygments_lexer": "ipython3",
   "version": "3.10.13"
  }
 },
 "nbformat": 4,
 "nbformat_minor": 2
}
